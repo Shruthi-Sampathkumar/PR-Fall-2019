{
 "cells": [
  {
   "cell_type": "code",
   "execution_count": 2,
   "metadata": {},
   "outputs": [],
   "source": [
    "import csv\n"
   ]
  },
  {
   "cell_type": "code",
   "execution_count": 3,
   "metadata": {},
   "outputs": [],
   "source": [
    "with open('Dataset.csv') as csv_file:\n",
    "    csv_reader = csv.reader(csv_file, delimiter = ' ')\n",
    "    x=[]\n",
    "    y=[]\n",
    "    D=[]\n",
    "    for line in csv_reader:\n",
    "        line=line[0].split(',')\n",
    "        x.append(line[:10])\n",
    "        y.append(line[10])\n",
    "        D.append(line[11])\n",
    "    x=x[1:]\n",
    "    y=y[1:]\n",
    "    D=D[1:]\n",
    "    for i in range(len(y)):\n",
    "        y[i]=int(y[i])\n",
    "        D[i]=float(D[i])"
   ]
  },
  {
   "cell_type": "code",
   "execution_count": 4,
   "metadata": {},
   "outputs": [],
   "source": [
    "F_star=float('INF')"
   ]
  },
  {
   "cell_type": "markdown",
   "metadata": {},
   "source": [
    "y1[0]"
   ]
  },
  {
   "cell_type": "code",
   "execution_count": 5,
   "metadata": {},
   "outputs": [
    {
     "name": "stdout",
     "output_type": "stream",
     "text": [
      "inf\n"
     ]
    }
   ],
   "source": [
    "print(F_star)"
   ]
  },
  {
   "cell_type": "code",
   "execution_count": 6,
   "metadata": {},
   "outputs": [
    {
     "name": "stdout",
     "output_type": "stream",
     "text": [
      "EEEE\n",
      "0\n"
     ]
    }
   ],
   "source": [
    "x1=[]\n",
    "j_star=0\n",
    "theta_star=0\n",
    "#F=int(0)\n",
    "for j in range(10):\n",
    "    F=int(0)\n",
    "    for i in range(100):\n",
    "        x1.append(float(x[i][j]))\n",
    "    x2, y1 = (list(t) for t in zip(*sorted(zip(x1, y))))\n",
    "    x2, D1 = (list(t) for t in zip(*sorted(zip(x1, D))))\n",
    "    for i,tmp in enumerate(y1):\n",
    "        if tmp==int(1):\n",
    "            F+=D1[i]        \n",
    "    if F<F_star:\n",
    "        print(\"EEEE\")\n",
    "        print(j)\n",
    "        F_star = F\n",
    "        theta_star=x2[0]-int(1)\n",
    "        j_star = j\n",
    "    for i in range(0,99):\n",
    "        #print(x2[i],x2[i+1])\n",
    "        F -=(y1[i]*D1[i])\n",
    "        #print(F,F_star)\n",
    "        if F<F_star and x2[i]!=x2[i+1]:\n",
    "            print(\"NNNN\")\n",
    "            F_star = F\n",
    "            theta_star = 0.5 * (x2[i]+x2[i+1])\n",
    "            j_star = j            \n",
    "            \n",
    "            \n",
    "            \n",
    "    #x.sort(key=lambda tmp:)\n",
    "    "
   ]
  },
  {
   "cell_type": "code",
   "execution_count": 7,
   "metadata": {},
   "outputs": [
    {
     "name": "stdout",
     "output_type": "stream",
     "text": [
      "0\n",
      "-18.01224520034141\n"
     ]
    }
   ],
   "source": [
    "print(j_star)\n",
    "print(theta_star)"
   ]
  },
  {
   "cell_type": "code",
   "execution_count": 20,
   "metadata": {},
   "outputs": [
    {
     "data": {
      "text/html": [
       "<div>\n",
       "<style scoped>\n",
       "    .dataframe tbody tr th:only-of-type {\n",
       "        vertical-align: middle;\n",
       "    }\n",
       "\n",
       "    .dataframe tbody tr th {\n",
       "        vertical-align: top;\n",
       "    }\n",
       "\n",
       "    .dataframe thead th {\n",
       "        text-align: right;\n",
       "    }\n",
       "</style>\n",
       "<table border=\"1\" class=\"dataframe\">\n",
       "  <thead>\n",
       "    <tr style=\"text-align: right;\">\n",
       "      <th></th>\n",
       "      <th>Feature0</th>\n",
       "      <th>Feature1</th>\n",
       "      <th>Feature2</th>\n",
       "      <th>Feature3</th>\n",
       "      <th>Feature4</th>\n",
       "      <th>Feature5</th>\n",
       "      <th>Feature6</th>\n",
       "      <th>Feature7</th>\n",
       "      <th>Feature8</th>\n",
       "      <th>Feature9</th>\n",
       "      <th>Label</th>\n",
       "      <th>Distribution</th>\n",
       "    </tr>\n",
       "  </thead>\n",
       "  <tbody>\n",
       "    <tr>\n",
       "      <th>0</th>\n",
       "      <td>1.085828</td>\n",
       "      <td>15.340873</td>\n",
       "      <td>19.606553</td>\n",
       "      <td>12.887571</td>\n",
       "      <td>1.893155</td>\n",
       "      <td>0.991230</td>\n",
       "      <td>7.714499</td>\n",
       "      <td>-0.295333</td>\n",
       "      <td>10.009174</td>\n",
       "      <td>1.974617</td>\n",
       "      <td>1</td>\n",
       "      <td>3.110309e-22</td>\n",
       "    </tr>\n",
       "    <tr>\n",
       "      <th>1</th>\n",
       "      <td>5.429587</td>\n",
       "      <td>-2.165379</td>\n",
       "      <td>-7.523645</td>\n",
       "      <td>-8.073563</td>\n",
       "      <td>-4.793689</td>\n",
       "      <td>-11.651170</td>\n",
       "      <td>-1.947743</td>\n",
       "      <td>3.330664</td>\n",
       "      <td>-8.434741</td>\n",
       "      <td>2.757134</td>\n",
       "      <td>-1</td>\n",
       "      <td>1.864820e-05</td>\n",
       "    </tr>\n",
       "    <tr>\n",
       "      <th>2</th>\n",
       "      <td>-1.464365</td>\n",
       "      <td>-9.986084</td>\n",
       "      <td>-4.431560</td>\n",
       "      <td>4.536342</td>\n",
       "      <td>0.107716</td>\n",
       "      <td>1.618156</td>\n",
       "      <td>0.207440</td>\n",
       "      <td>-10.606902</td>\n",
       "      <td>0.315807</td>\n",
       "      <td>-9.437125</td>\n",
       "      <td>-1</td>\n",
       "      <td>5.698521e-32</td>\n",
       "    </tr>\n",
       "    <tr>\n",
       "      <th>3</th>\n",
       "      <td>14.411107</td>\n",
       "      <td>9.802268</td>\n",
       "      <td>-4.646455</td>\n",
       "      <td>9.170645</td>\n",
       "      <td>13.622096</td>\n",
       "      <td>3.618095</td>\n",
       "      <td>6.806039</td>\n",
       "      <td>12.283595</td>\n",
       "      <td>2.105593</td>\n",
       "      <td>4.861130</td>\n",
       "      <td>1</td>\n",
       "      <td>3.004918e-34</td>\n",
       "    </tr>\n",
       "    <tr>\n",
       "      <th>4</th>\n",
       "      <td>11.270772</td>\n",
       "      <td>5.349879</td>\n",
       "      <td>3.184838</td>\n",
       "      <td>6.581507</td>\n",
       "      <td>8.386282</td>\n",
       "      <td>1.054044</td>\n",
       "      <td>3.744773</td>\n",
       "      <td>5.238541</td>\n",
       "      <td>3.340885</td>\n",
       "      <td>9.989958</td>\n",
       "      <td>1</td>\n",
       "      <td>3.950940e-08</td>\n",
       "    </tr>\n",
       "  </tbody>\n",
       "</table>\n",
       "</div>"
      ],
      "text/plain": [
       "    Feature0   Feature1   Feature2   Feature3   Feature4   Feature5  Feature6  \\\n",
       "0   1.085828  15.340873  19.606553  12.887571   1.893155   0.991230  7.714499   \n",
       "1   5.429587  -2.165379  -7.523645  -8.073563  -4.793689 -11.651170 -1.947743   \n",
       "2  -1.464365  -9.986084  -4.431560   4.536342   0.107716   1.618156  0.207440   \n",
       "3  14.411107   9.802268  -4.646455   9.170645  13.622096   3.618095  6.806039   \n",
       "4  11.270772   5.349879   3.184838   6.581507   8.386282   1.054044  3.744773   \n",
       "\n",
       "    Feature7   Feature8  Feature9  Label  Distribution  \n",
       "0  -0.295333  10.009174  1.974617      1  3.110309e-22  \n",
       "1   3.330664  -8.434741  2.757134     -1  1.864820e-05  \n",
       "2 -10.606902   0.315807 -9.437125     -1  5.698521e-32  \n",
       "3  12.283595   2.105593  4.861130      1  3.004918e-34  \n",
       "4   5.238541   3.340885  9.989958      1  3.950940e-08  "
      ]
     },
     "execution_count": 20,
     "metadata": {},
     "output_type": "execute_result"
    }
   ],
   "source": [
    "import pandas as pd \n",
    "data = pd.read_csv(\"Dataset.csv\") \n",
    "# Preview the first 5 lines of the loaded data \n",
    "data.head()"
   ]
  },
  {
   "cell_type": "code",
   "execution_count": 26,
   "metadata": {},
   "outputs": [],
   "source": [
    "feat = ['Feature0', 'Feature1', 'Feature2', 'Feature3', 'Feature4', 'Feature5', 'Feature6', 'Feature7', 'Feature8', 'Feature9']"
   ]
  },
  {
   "cell_type": "code",
   "execution_count": 39,
   "metadata": {},
   "outputs": [
    {
     "data": {
      "text/plain": [
       "1.0858284551860384"
      ]
     },
     "execution_count": 39,
     "metadata": {},
     "output_type": "execute_result"
    }
   ],
   "source": [
    "data.iloc[0]['Feature0']"
   ]
  },
  {
   "cell_type": "code",
   "execution_count": 40,
   "metadata": {},
   "outputs": [],
   "source": [
    "F_star=float('INF')\n",
    "for j in range(10):\n",
    "    F=int(0)\n",
    "    x = data.sort_values(by = feat[j])\n",
    "    for i in range(100):\n",
    "        if x['Label'][i]==int(1):\n",
    "            F+=x['Distribution'][i]\n",
    "    if F<F_star:\n",
    "        F_star=F\n",
    "        theta_star=x.iloc[0][feat[j]]-int(1)\n",
    "        j_star=j\n",
    "    for i in range(99):\n",
    "        F-=(x['Label'][i]*x['Distribution'][i])\n",
    "        if F<F_star and x[feat[j][i]]!=x[feat[j][i+1]]:\n",
    "            F_star=F\n",
    "            theta_star = float(0.5)* (x[feat[j]][i]+x[feat[j]][i+1])\n",
    "            j_star = j\n",
    "            "
   ]
  },
  {
   "cell_type": "code",
   "execution_count": 42,
   "metadata": {},
   "outputs": [
    {
     "name": "stdout",
     "output_type": "stream",
     "text": [
      "-18.01224520034141\n"
     ]
    }
   ],
   "source": [
    "print(theta_star)   "
   ]
  },
  {
   "cell_type": "code",
   "execution_count": 1,
   "metadata": {},
   "outputs": [
    {
     "name": "stdout",
     "output_type": "stream",
     "text": [
      "9\n",
      "0.9746165927837398\n"
     ]
    }
   ],
   "source": [
    "import pandas as pd\n",
    "import numpy as np\n",
    "import os\n",
    "\n",
    "data = pd.read_csv('Dataset.csv')\n",
    "\n",
    "F_star = np.inf\n",
    "columns = data.columns\n",
    "theta_star = 0\n",
    "j_star = 0\n",
    "\n",
    "for j in range(len(columns)):\n",
    "    if 'Feature' in columns[j]:\n",
    "        data.sort_values(by=columns[j])\n",
    "        F = data.loc[data['Label'] == 1, columns[j]].sum()\n",
    "\n",
    "        if F < F_star:\n",
    "            F_star = F\n",
    "            theta_star = data[columns[j]].iloc[0] - 1\n",
    "            j_star = j\n",
    "        for i in range(data.shape[0]):\n",
    "            F = F - data['Label'].iloc[i] * data['Distribution'].iloc[i]\n",
    "            if F < F_star and i+1<data.shape[0] and data[columns[j]].iloc[i] != data[columns[j]].iloc[i+1]:\n",
    "                F_star = F\n",
    "                theta_star = 0.5 * (data[columns[j]].iloc[i] + data[columns[j]].iloc[i+1])\n",
    "                j_star = j\n",
    "            elif F < F_star and i+1 == data.shape[0]:\n",
    "                F_star = F\n",
    "                theta_star = 0.5 * (data[columns[j]].iloc[i] + data[columns[j]].iloc[i] + 1)\n",
    "                j_star = j\n",
    "\n",
    "print(j_star)\n",
    "print(theta_star)\n"
   ]
  },
  {
   "cell_type": "code",
   "execution_count": null,
   "metadata": {},
   "outputs": [],
   "source": []
  }
 ],
 "metadata": {
  "kernelspec": {
   "display_name": "Python 3",
   "language": "python",
   "name": "python3"
  },
  "language_info": {
   "codemirror_mode": {
    "name": "ipython",
    "version": 3
   },
   "file_extension": ".py",
   "mimetype": "text/x-python",
   "name": "python",
   "nbconvert_exporter": "python",
   "pygments_lexer": "ipython3",
   "version": "3.7.3"
  }
 },
 "nbformat": 4,
 "nbformat_minor": 2
}
